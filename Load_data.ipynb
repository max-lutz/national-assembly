{
 "cells": [
  {
   "cell_type": "code",
   "execution_count": 69,
   "metadata": {},
   "outputs": [],
   "source": [
    "import pandas as pd\n",
    "import numpy as np\n",
    "import json\n",
    "import os\n",
    "import requests, zipfile, io"
   ]
  },
  {
   "cell_type": "markdown",
   "metadata": {},
   "source": [
    "## Download the data and extract it in the data folder"
   ]
  },
  {
   "cell_type": "code",
   "execution_count": 70,
   "metadata": {},
   "outputs": [],
   "source": [
    "link = \"http://data.assemblee-nationale.fr/static/openData/repository/15/amo/deputes_actifs_mandats_actifs_organes/AMO10_deputes_actifs_mandats_actifs_organes_XV.json.zip\""
   ]
  },
  {
   "cell_type": "code",
   "execution_count": 71,
   "metadata": {},
   "outputs": [],
   "source": [
    "r = requests.get(link)\n",
    "z = zipfile.ZipFile(io.BytesIO(r.content))\n",
    "z.extractall(os.path.join(os.getcwd(), 'data'))"
   ]
  },
  {
   "cell_type": "markdown",
   "metadata": {},
   "source": [
    "## Extract all the deputies infos from the csv files\n",
    "\n",
    "The next cell scans through all the files with deputies info (they start with 'PA') and extracts the relevant data (name, family name, date of birth, political party...)\n",
    "At the end we output a list of political parties with their respective code."
   ]
  },
  {
   "cell_type": "markdown",
   "metadata": {},
   "source": [
    "### Create the dataframe with the deputies information and the political parties information"
   ]
  },
  {
   "cell_type": "code",
   "execution_count": 72,
   "metadata": {},
   "outputs": [
    {
     "name": "stdout",
     "output_type": "stream",
     "text": [
      "<class 'pandas.core.frame.DataFrame'>\n",
      "Int64Index: 573 entries, 0 to 572\n",
      "Data columns (total 7 columns):\n",
      " #   Column         Non-Null Count  Dtype \n",
      "---  ------         --------------  ----- \n",
      " 0   code           573 non-null    object\n",
      " 1   sex            573 non-null    object\n",
      " 2   family name    573 non-null    object\n",
      " 3   first name     573 non-null    object\n",
      " 4   date of birth  573 non-null    object\n",
      " 5   activity       573 non-null    object\n",
      " 6   pol party      573 non-null    object\n",
      "dtypes: object(7)\n",
      "memory usage: 35.8+ KB\n"
     ]
    }
   ],
   "source": [
    "column_names = [\"code\", \"sex\", \"family name\", \"first name\", \"date of birth\", \"activity\", \"pol party\"]\n",
    "df_dep = pd.DataFrame(columns = column_names)\n",
    "row_index = 0\n",
    "non_declared = 'PO746314'\n",
    "\n",
    "for path, subdirs, files in os.walk(os.path.join(os.getcwd(), 'data', 'json')):\n",
    "    for name in files:\n",
    "        if name[0:2] == 'PA':\n",
    "            with open(os.path.join(path, name)) as f:\n",
    "                data = json.load(f)\n",
    "                l = [data['acteur']['uid']['#text']]\n",
    "                if data['acteur']['etatCivil']['ident']['civ'] == 'M.':\n",
    "                    l.append('male')\n",
    "                else:\n",
    "                    l.append('female')\n",
    "                l.append(data['acteur']['etatCivil']['ident']['nom'])\n",
    "                l.append(data['acteur']['etatCivil']['ident']['prenom'])\n",
    "                l.append(data['acteur']['etatCivil']['infoNaissance']['dateNais'])\n",
    "                l.append(data['acteur']['profession']['socProcINSEE']['famSocPro'])\n",
    "                for i in range(len(data['acteur']['mandats']['mandat'])):\n",
    "                    if data['acteur']['mandats']['mandat'][i]['typeOrgane'] == 'PARPOL':\n",
    "                        l.append(data['acteur']['mandats']['mandat'][i]['organes']['organeRef'])\n",
    "                if(len(l) == 6):\n",
    "                    l.append(non_declared)                \n",
    "                df_dep.loc[row_index] = l\n",
    "                row_index = row_index + 1  \n",
    "df_dep.loc[df_dep['activity'].str.len() < 5, 'activity'] = 'inconnu'\n",
    "df_dep.info()"
   ]
  },
  {
   "cell_type": "code",
   "execution_count": 73,
   "metadata": {},
   "outputs": [
    {
     "name": "stdout",
     "output_type": "stream",
     "text": [
      "<class 'pandas.core.frame.DataFrame'>\n",
      "Int64Index: 19 entries, 0 to 18\n",
      "Data columns (total 3 columns):\n",
      " #   Column           Non-Null Count  Dtype \n",
      "---  ------           --------------  ----- \n",
      " 0   code             19 non-null     object\n",
      " 1   name             19 non-null     object\n",
      " 2   abreviated_name  19 non-null     object\n",
      "dtypes: object(3)\n",
      "memory usage: 608.0+ bytes\n"
     ]
    }
   ],
   "source": [
    "column_names = [\"code\", \"name\", \"abreviated_name\"]\n",
    "df_polpar = pd.DataFrame(columns = column_names)\n",
    "row_index = 0\n",
    "\n",
    "for path, subdirs, files in os.walk(os.path.join(os.getcwd(), 'data', 'json')):\n",
    "    for name in files:\n",
    "        if name[0:2] == 'PO':\n",
    "            with open(os.path.join(path, name)) as f:\n",
    "                data = json.load(f)\n",
    "                if data['organe']['codeType'] == 'PARPOL':\n",
    "                    l = [data['organe']['uid']]\n",
    "                    l.append(data['organe']['libelle'])\n",
    "                    l.append(data['organe']['libelleAbrev'])\n",
    "                    df_polpar.loc[row_index] = l\n",
    "                    row_index = row_index + 1 \n",
    "df_polpar.info()"
   ]
  },
  {
   "cell_type": "markdown",
   "metadata": {},
   "source": [
    "## Count the number of members per political parties"
   ]
  },
  {
   "cell_type": "code",
   "execution_count": 74,
   "metadata": {},
   "outputs": [],
   "source": [
    "#count the members per parties\n",
    "df_members = df_dep['pol party'].value_counts().to_frame()\n",
    "#extract the parties with less than 7 members\n",
    "df_parties_to_replace = df_members.loc[df_members['pol party'] < 7]\n",
    "#aggregate these parties into the not declared party (code = PO746314)\n",
    "for party in df_parties_to_replace.index.to_list():\n",
    "    df_dep.loc[df_dep['pol party'] == party, 'pol party'] = non_declared\n",
    "    \n",
    "#recount the number of members with the modification\n",
    "df_members = df_dep['pol party'].value_counts().to_frame()\n",
    "#remove the parties with few members\n",
    "df_polpar = df_polpar.loc[df_polpar['code'].isin(df_members.loc[df_members['pol party'] >= 7].index.to_list())]\n",
    "#add number of members in the political party dataframe\n",
    "i = 0\n",
    "for party in df_dep['pol party'].value_counts().to_frame().index.to_list():\n",
    "    df_polpar.loc[df_polpar['code'] == party, 'members'] = int(df_dep['pol party'].value_counts().to_frame().values[i][0])\n",
    "    i = i + 1\n",
    "df_polpar['members'] = df_polpar['members'].astype(int)"
   ]
  },
  {
   "cell_type": "markdown",
   "metadata": {},
   "source": [
    "Let's add a color per political party when we display them"
   ]
  },
  {
   "cell_type": "code",
   "execution_count": 75,
   "metadata": {},
   "outputs": [],
   "source": [
    "df_polpar['color'] = ['tab:red', 'tab:olive', 'tab:green', 'tab:orange', 'tab:blue',\n",
    "                      'tab:cyan', 'tab:brown', 'tab:purple', 'tab:pink', 'tab:grey']"
   ]
  },
  {
   "cell_type": "markdown",
   "metadata": {},
   "source": [
    "Replace political party code by abreviated name in df_dep"
   ]
  },
  {
   "cell_type": "code",
   "execution_count": 76,
   "metadata": {},
   "outputs": [],
   "source": [
    "update_list = df_polpar.drop(columns = ['name','members', 'color']).values.tolist()\n",
    "for i in range(len(update_list)):\n",
    "    df_dep.loc[df_dep['pol party'] == update_list[i][0], 'pol party'] = update_list[i][1]"
   ]
  },
  {
   "cell_type": "markdown",
   "metadata": {},
   "source": [
    "### Arrange the activity categories"
   ]
  },
  {
   "cell_type": "code",
   "execution_count": 77,
   "metadata": {},
   "outputs": [
    {
     "data": {
      "text/plain": [
       "array(['Cadres et professions intellectuelles supérieures',\n",
       "       \"Artisans, commerçants et chefs d'entreprise\",\n",
       "       'Agriculteurs exploitants', 'Ouvriers', 'Retraités',\n",
       "       'Professions Intermédiaires', 'Employés',\n",
       "       'Sans profession déclarée',\n",
       "       'Autres personnes sans activité professionnelle', 'inconnu'],\n",
       "      dtype=object)"
      ]
     },
     "execution_count": 77,
     "metadata": {},
     "output_type": "execute_result"
    }
   ],
   "source": [
    "df_dep['activity'].unique()"
   ]
  },
  {
   "cell_type": "code",
   "execution_count": 78,
   "metadata": {},
   "outputs": [],
   "source": [
    "df_dep.loc[df_dep['activity'] == 'Cadres et professions intellectuelles supérieures', 'activity'] = 'Cadres'\n",
    "df_dep.loc[df_dep['activity'] == \"Artisans, commerçants et chefs d'entreprise\", 'activity'] = 'Entrepreneurs'\n",
    "df_dep.loc[df_dep['activity'] == 'Professions Intermédiaires', 'activity'] = 'Prof. inter.'\n",
    "df_dep.loc[df_dep['activity'] == 'Agriculteurs exploitants', 'activity'] = 'Agriculteurs'\n",
    "df_dep.loc[df_dep['activity'] == 'Sans profession déclarée', 'activity'] = 'Non déclaré'\n",
    "df_dep.loc[df_dep['activity'] == 'Autres personnes sans activité professionnelle', 'activity'] = 'Non déclaré'\n",
    "df_dep.loc[df_dep['activity'] == 'inconnu', 'activity'] = 'Non déclaré'"
   ]
  },
  {
   "cell_type": "code",
   "execution_count": 79,
   "metadata": {},
   "outputs": [
    {
     "data": {
      "text/plain": [
       "array(['Cadres', 'Entrepreneurs', 'Agriculteurs', 'Ouvriers', 'Retraités',\n",
       "       'Prof. inter.', 'Employés', 'Non déclaré'], dtype=object)"
      ]
     },
     "execution_count": 79,
     "metadata": {},
     "output_type": "execute_result"
    }
   ],
   "source": [
    "df_dep['activity'].unique()"
   ]
  },
  {
   "cell_type": "markdown",
   "metadata": {},
   "source": [
    "save deputy and political parties dataframes as cvs"
   ]
  },
  {
   "cell_type": "code",
   "execution_count": 80,
   "metadata": {},
   "outputs": [
    {
     "name": "stdout",
     "output_type": "stream",
     "text": [
      "<class 'pandas.core.frame.DataFrame'>\n",
      "Int64Index: 573 entries, 0 to 572\n",
      "Data columns (total 7 columns):\n",
      " #   Column         Non-Null Count  Dtype \n",
      "---  ------         --------------  ----- \n",
      " 0   code           573 non-null    object\n",
      " 1   sex            573 non-null    object\n",
      " 2   family name    573 non-null    object\n",
      " 3   first name     573 non-null    object\n",
      " 4   date of birth  573 non-null    object\n",
      " 5   activity       573 non-null    object\n",
      " 6   pol party      573 non-null    object\n",
      "dtypes: object(7)\n",
      "memory usage: 35.8+ KB\n"
     ]
    }
   ],
   "source": [
    "df_dep.info()"
   ]
  },
  {
   "cell_type": "code",
   "execution_count": 84,
   "metadata": {},
   "outputs": [
    {
     "data": {
      "text/html": [
       "<div>\n",
       "<style scoped>\n",
       "    .dataframe tbody tr th:only-of-type {\n",
       "        vertical-align: middle;\n",
       "    }\n",
       "\n",
       "    .dataframe tbody tr th {\n",
       "        vertical-align: top;\n",
       "    }\n",
       "\n",
       "    .dataframe thead th {\n",
       "        text-align: right;\n",
       "    }\n",
       "</style>\n",
       "<table border=\"1\" class=\"dataframe\">\n",
       "  <thead>\n",
       "    <tr style=\"text-align: right;\">\n",
       "      <th></th>\n",
       "      <th>code</th>\n",
       "      <th>sex</th>\n",
       "      <th>family name</th>\n",
       "      <th>first name</th>\n",
       "      <th>date of birth</th>\n",
       "      <th>activity</th>\n",
       "      <th>pol party</th>\n",
       "    </tr>\n",
       "  </thead>\n",
       "  <tbody>\n",
       "    <tr>\n",
       "      <th>106</th>\n",
       "      <td>PA607395</td>\n",
       "      <td>male</td>\n",
       "      <td>Travert</td>\n",
       "      <td>Stéphane</td>\n",
       "      <td>1969-10-12</td>\n",
       "      <td>Cadres</td>\n",
       "      <td>LAREM</td>\n",
       "    </tr>\n",
       "    <tr>\n",
       "      <th>23</th>\n",
       "      <td>PA266797</td>\n",
       "      <td>male</td>\n",
       "      <td>Gosselin</td>\n",
       "      <td>Philippe</td>\n",
       "      <td>1966-10-23</td>\n",
       "      <td>Cadres</td>\n",
       "      <td>REP</td>\n",
       "    </tr>\n",
       "    <tr>\n",
       "      <th>157</th>\n",
       "      <td>PA718728</td>\n",
       "      <td>female</td>\n",
       "      <td>Vanceunebrock</td>\n",
       "      <td>Laurence</td>\n",
       "      <td>1970-05-06</td>\n",
       "      <td>Employés</td>\n",
       "      <td>LAREM</td>\n",
       "    </tr>\n",
       "    <tr>\n",
       "      <th>98</th>\n",
       "      <td>PA606098</td>\n",
       "      <td>male</td>\n",
       "      <td>Marleix</td>\n",
       "      <td>Olivier</td>\n",
       "      <td>1971-02-06</td>\n",
       "      <td>Cadres</td>\n",
       "      <td>REP</td>\n",
       "    </tr>\n",
       "    <tr>\n",
       "      <th>355</th>\n",
       "      <td>PA720560</td>\n",
       "      <td>female</td>\n",
       "      <td>Goulet</td>\n",
       "      <td>Perrine</td>\n",
       "      <td>1978-03-19</td>\n",
       "      <td>Cadres</td>\n",
       "      <td>MODEM</td>\n",
       "    </tr>\n",
       "    <tr>\n",
       "      <th>200</th>\n",
       "      <td>PA719146</td>\n",
       "      <td>male</td>\n",
       "      <td>Acquaviva</td>\n",
       "      <td>Jean-Félix</td>\n",
       "      <td>1973-03-19</td>\n",
       "      <td>Cadres</td>\n",
       "      <td>RPS</td>\n",
       "    </tr>\n",
       "    <tr>\n",
       "      <th>314</th>\n",
       "      <td>PA720178</td>\n",
       "      <td>male</td>\n",
       "      <td>Garcia</td>\n",
       "      <td>Laurent</td>\n",
       "      <td>1970-05-31</td>\n",
       "      <td>Cadres</td>\n",
       "      <td>MODEM</td>\n",
       "    </tr>\n",
       "    <tr>\n",
       "      <th>523</th>\n",
       "      <td>PA722102</td>\n",
       "      <td>female</td>\n",
       "      <td>Vidal</td>\n",
       "      <td>Annie</td>\n",
       "      <td>1956-09-17</td>\n",
       "      <td>Cadres</td>\n",
       "      <td>LAREM</td>\n",
       "    </tr>\n",
       "    <tr>\n",
       "      <th>409</th>\n",
       "      <td>PA721046</td>\n",
       "      <td>female</td>\n",
       "      <td>Bassire</td>\n",
       "      <td>Nathalie</td>\n",
       "      <td>1968-01-22</td>\n",
       "      <td>Retraités</td>\n",
       "      <td>UDRL</td>\n",
       "    </tr>\n",
       "    <tr>\n",
       "      <th>15</th>\n",
       "      <td>PA223837</td>\n",
       "      <td>male</td>\n",
       "      <td>Brochand</td>\n",
       "      <td>Bernard</td>\n",
       "      <td>1938-06-05</td>\n",
       "      <td>Retraités</td>\n",
       "      <td>REP</td>\n",
       "    </tr>\n",
       "    <tr>\n",
       "      <th>338</th>\n",
       "      <td>PA720402</td>\n",
       "      <td>male</td>\n",
       "      <td>Paluszkiewicz</td>\n",
       "      <td>Xavier</td>\n",
       "      <td>1972-12-13</td>\n",
       "      <td>Employés</td>\n",
       "      <td>LAREM</td>\n",
       "    </tr>\n",
       "    <tr>\n",
       "      <th>437</th>\n",
       "      <td>PA721328</td>\n",
       "      <td>female</td>\n",
       "      <td>Brugnera</td>\n",
       "      <td>Anne</td>\n",
       "      <td>1970-11-28</td>\n",
       "      <td>Cadres</td>\n",
       "      <td>LAREM</td>\n",
       "    </tr>\n",
       "    <tr>\n",
       "      <th>10</th>\n",
       "      <td>PA1809</td>\n",
       "      <td>male</td>\n",
       "      <td>Lambert</td>\n",
       "      <td>Jérôme</td>\n",
       "      <td>1957-06-07</td>\n",
       "      <td>Cadres</td>\n",
       "      <td>PS</td>\n",
       "    </tr>\n",
       "    <tr>\n",
       "      <th>472</th>\n",
       "      <td>PA721656</td>\n",
       "      <td>female</td>\n",
       "      <td>Muschotti</td>\n",
       "      <td>Cécile</td>\n",
       "      <td>1987-10-30</td>\n",
       "      <td>Cadres</td>\n",
       "      <td>LAREM</td>\n",
       "    </tr>\n",
       "    <tr>\n",
       "      <th>426</th>\n",
       "      <td>PA721210</td>\n",
       "      <td>male</td>\n",
       "      <td>Corbière</td>\n",
       "      <td>Alexis</td>\n",
       "      <td>1968-08-17</td>\n",
       "      <td>Cadres</td>\n",
       "      <td>FI</td>\n",
       "    </tr>\n",
       "    <tr>\n",
       "      <th>245</th>\n",
       "      <td>PA719540</td>\n",
       "      <td>female</td>\n",
       "      <td>Toutut-Picard</td>\n",
       "      <td>Élisabeth</td>\n",
       "      <td>1954-12-17</td>\n",
       "      <td>Cadres</td>\n",
       "      <td>LAREM</td>\n",
       "    </tr>\n",
       "    <tr>\n",
       "      <th>227</th>\n",
       "      <td>PA719388</td>\n",
       "      <td>female</td>\n",
       "      <td>Le Meur</td>\n",
       "      <td>Annaïg</td>\n",
       "      <td>1973-04-29</td>\n",
       "      <td>Entrepreneurs</td>\n",
       "      <td>LAREM</td>\n",
       "    </tr>\n",
       "    <tr>\n",
       "      <th>571</th>\n",
       "      <td>PA923</td>\n",
       "      <td>male</td>\n",
       "      <td>Cornut-Gentille</td>\n",
       "      <td>François</td>\n",
       "      <td>1958-05-22</td>\n",
       "      <td>Cadres</td>\n",
       "      <td>REP</td>\n",
       "    </tr>\n",
       "    <tr>\n",
       "      <th>100</th>\n",
       "      <td>PA606202</td>\n",
       "      <td>female</td>\n",
       "      <td>Dumas</td>\n",
       "      <td>Françoise</td>\n",
       "      <td>1960-04-12</td>\n",
       "      <td>Cadres</td>\n",
       "      <td>LAREM</td>\n",
       "    </tr>\n",
       "    <tr>\n",
       "      <th>156</th>\n",
       "      <td>PA718720</td>\n",
       "      <td>male</td>\n",
       "      <td>Dufrègne</td>\n",
       "      <td>Jean-Paul</td>\n",
       "      <td>1958-03-28</td>\n",
       "      <td>Cadres</td>\n",
       "      <td>PCF</td>\n",
       "    </tr>\n",
       "  </tbody>\n",
       "</table>\n",
       "</div>"
      ],
      "text/plain": [
       "         code     sex      family name  first name date of birth  \\\n",
       "106  PA607395    male          Travert    Stéphane    1969-10-12   \n",
       "23   PA266797    male         Gosselin    Philippe    1966-10-23   \n",
       "157  PA718728  female    Vanceunebrock    Laurence    1970-05-06   \n",
       "98   PA606098    male          Marleix     Olivier    1971-02-06   \n",
       "355  PA720560  female           Goulet     Perrine    1978-03-19   \n",
       "200  PA719146    male        Acquaviva  Jean-Félix    1973-03-19   \n",
       "314  PA720178    male           Garcia     Laurent    1970-05-31   \n",
       "523  PA722102  female            Vidal       Annie    1956-09-17   \n",
       "409  PA721046  female          Bassire    Nathalie    1968-01-22   \n",
       "15   PA223837    male         Brochand     Bernard    1938-06-05   \n",
       "338  PA720402    male    Paluszkiewicz      Xavier    1972-12-13   \n",
       "437  PA721328  female         Brugnera        Anne    1970-11-28   \n",
       "10     PA1809    male          Lambert      Jérôme    1957-06-07   \n",
       "472  PA721656  female        Muschotti      Cécile    1987-10-30   \n",
       "426  PA721210    male         Corbière      Alexis    1968-08-17   \n",
       "245  PA719540  female    Toutut-Picard   Élisabeth    1954-12-17   \n",
       "227  PA719388  female          Le Meur      Annaïg    1973-04-29   \n",
       "571     PA923    male  Cornut-Gentille    François    1958-05-22   \n",
       "100  PA606202  female            Dumas   Françoise    1960-04-12   \n",
       "156  PA718720    male         Dufrègne   Jean-Paul    1958-03-28   \n",
       "\n",
       "          activity pol party  \n",
       "106         Cadres     LAREM  \n",
       "23          Cadres       REP  \n",
       "157       Employés     LAREM  \n",
       "98          Cadres       REP  \n",
       "355         Cadres     MODEM  \n",
       "200         Cadres       RPS  \n",
       "314         Cadres     MODEM  \n",
       "523         Cadres     LAREM  \n",
       "409      Retraités      UDRL  \n",
       "15       Retraités       REP  \n",
       "338       Employés     LAREM  \n",
       "437         Cadres     LAREM  \n",
       "10          Cadres        PS  \n",
       "472         Cadres     LAREM  \n",
       "426         Cadres        FI  \n",
       "245         Cadres     LAREM  \n",
       "227  Entrepreneurs     LAREM  \n",
       "571         Cadres       REP  \n",
       "100         Cadres     LAREM  \n",
       "156         Cadres       PCF  "
      ]
     },
     "execution_count": 84,
     "metadata": {},
     "output_type": "execute_result"
    }
   ],
   "source": [
    "df_dep.sample(20)"
   ]
  },
  {
   "cell_type": "code",
   "execution_count": 81,
   "metadata": {},
   "outputs": [
    {
     "name": "stdout",
     "output_type": "stream",
     "text": [
      "<class 'pandas.core.frame.DataFrame'>\n",
      "Int64Index: 10 entries, 0 to 18\n",
      "Data columns (total 5 columns):\n",
      " #   Column           Non-Null Count  Dtype \n",
      "---  ------           --------------  ----- \n",
      " 0   code             10 non-null     object\n",
      " 1   name             10 non-null     object\n",
      " 2   abreviated_name  10 non-null     object\n",
      " 3   members          10 non-null     int32 \n",
      " 4   color            10 non-null     object\n",
      "dtypes: int32(1), object(4)\n",
      "memory usage: 440.0+ bytes\n"
     ]
    }
   ],
   "source": [
    "df_polpar.info()"
   ]
  },
  {
   "cell_type": "code",
   "execution_count": 86,
   "metadata": {},
   "outputs": [
    {
     "data": {
      "text/html": [
       "<div>\n",
       "<style scoped>\n",
       "    .dataframe tbody tr th:only-of-type {\n",
       "        vertical-align: middle;\n",
       "    }\n",
       "\n",
       "    .dataframe tbody tr th {\n",
       "        vertical-align: top;\n",
       "    }\n",
       "\n",
       "    .dataframe thead th {\n",
       "        text-align: right;\n",
       "    }\n",
       "</style>\n",
       "<table border=\"1\" class=\"dataframe\">\n",
       "  <thead>\n",
       "    <tr style=\"text-align: right;\">\n",
       "      <th></th>\n",
       "      <th>code</th>\n",
       "      <th>name</th>\n",
       "      <th>abreviated_name</th>\n",
       "      <th>members</th>\n",
       "      <th>color</th>\n",
       "    </tr>\n",
       "  </thead>\n",
       "  <tbody>\n",
       "    <tr>\n",
       "      <th>15</th>\n",
       "      <td>PO744864</td>\n",
       "      <td>Union des démocrates, radicaux et libéraux</td>\n",
       "      <td>UDRL</td>\n",
       "      <td>24</td>\n",
       "      <td>tab:purple</td>\n",
       "    </tr>\n",
       "    <tr>\n",
       "      <th>3</th>\n",
       "      <td>PO684936</td>\n",
       "      <td>Europe Écologie Les Verts</td>\n",
       "      <td>EELV</td>\n",
       "      <td>13</td>\n",
       "      <td>tab:green</td>\n",
       "    </tr>\n",
       "    <tr>\n",
       "      <th>18</th>\n",
       "      <td>PO761294</td>\n",
       "      <td>La République en Marche</td>\n",
       "      <td>LAREM</td>\n",
       "      <td>272</td>\n",
       "      <td>tab:grey</td>\n",
       "    </tr>\n",
       "    <tr>\n",
       "      <th>9</th>\n",
       "      <td>PO710396</td>\n",
       "      <td>Les Républicains</td>\n",
       "      <td>REP</td>\n",
       "      <td>104</td>\n",
       "      <td>tab:blue</td>\n",
       "    </tr>\n",
       "    <tr>\n",
       "      <th>0</th>\n",
       "      <td>PO684926</td>\n",
       "      <td>Parti communiste français</td>\n",
       "      <td>PCF</td>\n",
       "      <td>15</td>\n",
       "      <td>tab:red</td>\n",
       "    </tr>\n",
       "    <tr>\n",
       "      <th>1</th>\n",
       "      <td>PO684932</td>\n",
       "      <td>Parti socialiste</td>\n",
       "      <td>PS</td>\n",
       "      <td>25</td>\n",
       "      <td>tab:olive</td>\n",
       "    </tr>\n",
       "    <tr>\n",
       "      <th>4</th>\n",
       "      <td>PO684938</td>\n",
       "      <td>Mouvement Démocrate</td>\n",
       "      <td>MODEM</td>\n",
       "      <td>66</td>\n",
       "      <td>tab:orange</td>\n",
       "    </tr>\n",
       "    <tr>\n",
       "      <th>12</th>\n",
       "      <td>PO744858</td>\n",
       "      <td>Régions et peuples solidaires</td>\n",
       "      <td>RPS</td>\n",
       "      <td>11</td>\n",
       "      <td>tab:brown</td>\n",
       "    </tr>\n",
       "    <tr>\n",
       "      <th>11</th>\n",
       "      <td>PO744856</td>\n",
       "      <td>La France Insoumise</td>\n",
       "      <td>FI</td>\n",
       "      <td>17</td>\n",
       "      <td>tab:cyan</td>\n",
       "    </tr>\n",
       "    <tr>\n",
       "      <th>16</th>\n",
       "      <td>PO746314</td>\n",
       "      <td>Non déclaré(s)</td>\n",
       "      <td>ND</td>\n",
       "      <td>26</td>\n",
       "      <td>tab:pink</td>\n",
       "    </tr>\n",
       "  </tbody>\n",
       "</table>\n",
       "</div>"
      ],
      "text/plain": [
       "        code                                        name abreviated_name  \\\n",
       "15  PO744864  Union des démocrates, radicaux et libéraux            UDRL   \n",
       "3   PO684936                   Europe Écologie Les Verts            EELV   \n",
       "18  PO761294                     La République en Marche           LAREM   \n",
       "9   PO710396                            Les Républicains             REP   \n",
       "0   PO684926                   Parti communiste français             PCF   \n",
       "1   PO684932                            Parti socialiste              PS   \n",
       "4   PO684938                         Mouvement Démocrate           MODEM   \n",
       "12  PO744858               Régions et peuples solidaires             RPS   \n",
       "11  PO744856                         La France Insoumise              FI   \n",
       "16  PO746314                              Non déclaré(s)              ND   \n",
       "\n",
       "    members       color  \n",
       "15       24  tab:purple  \n",
       "3        13   tab:green  \n",
       "18      272    tab:grey  \n",
       "9       104    tab:blue  \n",
       "0        15     tab:red  \n",
       "1        25   tab:olive  \n",
       "4        66  tab:orange  \n",
       "12       11   tab:brown  \n",
       "11       17    tab:cyan  \n",
       "16       26    tab:pink  "
      ]
     },
     "execution_count": 86,
     "metadata": {},
     "output_type": "execute_result"
    }
   ],
   "source": [
    "df_polpar.sample(10)"
   ]
  },
  {
   "cell_type": "code",
   "execution_count": 82,
   "metadata": {},
   "outputs": [],
   "source": [
    "df_dep.to_csv(os.path.join(os.getcwd(), 'data') + '\\df_dep.csv',index=False)"
   ]
  },
  {
   "cell_type": "code",
   "execution_count": 83,
   "metadata": {},
   "outputs": [],
   "source": [
    "df_polpar.to_csv(os.path.join(os.getcwd(), 'data') + '\\df_polpar.csv',index=False)"
   ]
  }
 ],
 "metadata": {
  "kernelspec": {
   "display_name": "Python 3",
   "language": "python",
   "name": "python3"
  },
  "language_info": {
   "codemirror_mode": {
    "name": "ipython",
    "version": 3
   },
   "file_extension": ".py",
   "mimetype": "text/x-python",
   "name": "python",
   "nbconvert_exporter": "python",
   "pygments_lexer": "ipython3",
   "version": "3.8.5"
  }
 },
 "nbformat": 4,
 "nbformat_minor": 4
}
